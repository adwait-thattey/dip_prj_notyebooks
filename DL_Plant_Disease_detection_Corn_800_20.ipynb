{
  "nbformat": 4,
  "nbformat_minor": 0,
  "metadata": {
    "accelerator": "GPU",
    "colab": {
      "name": "DL Plant Disease detection Corn.ipynb",
      "provenance": [],
      "collapsed_sections": []
    },
    "kernelspec": {
      "display_name": "Python 3",
      "name": "python3"
    }
  },
  "cells": [
    {
      "cell_type": "code",
      "metadata": {
        "id": "x1vIZoOctTBF"
      },
      "source": [
        "import numpy as np\n",
        "import random\n",
        "import pickle\n",
        "import cv2\n",
        "from os import listdir\n",
        "from sklearn.preprocessing import LabelBinarizer\n",
        "from keras.models import Sequential\n",
        "from keras.layers.normalization import BatchNormalization\n",
        "from keras.layers.convolutional import Conv2D\n",
        "from keras.layers.convolutional import MaxPooling2D\n",
        "from keras.layers.core import Activation, Flatten, Dropout, Dense\n",
        "from keras import backend as K\n",
        "from keras.preprocessing.image import ImageDataGenerator\n",
        "from keras.optimizers import Adam\n",
        "from keras.preprocessing import image\n",
        "from keras.preprocessing.image import img_to_array\n",
        "from sklearn.preprocessing import MultiLabelBinarizer\n",
        "from sklearn.model_selection import train_test_split\n",
        "import matplotlib.pyplot as plt"
      ],
      "execution_count": 1,
      "outputs": []
    },
    {
      "cell_type": "code",
      "metadata": {
        "colab": {
          "base_uri": "https://localhost:8080/"
        },
        "id": "Kyql2stduXy6",
        "outputId": "0074aafb-ab66-4d1e-9201-04f47d84367c"
      },
      "source": [
        "from google.colab import drive\n",
        "\n",
        "drive.mount(\"/content/drive\")"
      ],
      "execution_count": 2,
      "outputs": [
        {
          "output_type": "stream",
          "text": [
            "Mounted at /content/drive\n"
          ],
          "name": "stdout"
        }
      ]
    },
    {
      "cell_type": "code",
      "metadata": {
        "colab": {
          "base_uri": "https://localhost:8080/"
        },
        "id": "riaKa24Ku8eP",
        "outputId": "9ce9a14a-7aa5-484b-f2d6-bfe5abc82293"
      },
      "source": [
        "%cd /content/drive/MyDrive/DIP\\ Project/dataset/"
      ],
      "execution_count": 3,
      "outputs": [
        {
          "output_type": "stream",
          "text": [
            "/content/drive/MyDrive/DIP Project/dataset\n"
          ],
          "name": "stdout"
        }
      ]
    },
    {
      "cell_type": "code",
      "metadata": {
        "id": "0Qeu47rvtiMB"
      },
      "source": [
        "EPOCHS = 20\n",
        "INIT_LR = 1e-3\n",
        "BS = 32\n",
        "default_image_size = tuple((256, 256))\n",
        "image_size = 0\n",
        "directory_root = './PlantVillage/'\n",
        "width=256\n",
        "height=256\n",
        "depth=3\n",
        "NO_IMAGES_EACH_SET = 800\n",
        "PLANTS_TO_CONSIDER = [\"Corn\"]"
      ],
      "execution_count": 4,
      "outputs": []
    },
    {
      "cell_type": "code",
      "metadata": {
        "id": "0jhlStgXtlBU"
      },
      "source": [
        "def convert_image_to_array(image_dir):\n",
        "    try:\n",
        "        image = cv2.imread(image_dir)\n",
        "        if image is not None :\n",
        "            image = cv2.resize(image, default_image_size)   \n",
        "            return img_to_array(image)\n",
        "        else :\n",
        "            return np.array([])\n",
        "    except Exception as e:\n",
        "        print(f\"Error : {e}\")\n",
        "        return None"
      ],
      "execution_count": 5,
      "outputs": []
    },
    {
      "cell_type": "code",
      "metadata": {
        "colab": {
          "base_uri": "https://localhost:8080/"
        },
        "id": "HeGTrdXJtnpz",
        "outputId": "29a496b0-5de0-49a5-c576-3e78bdf93b01"
      },
      "source": [
        "image_list, label_list = [], []\n",
        "try:\n",
        "    print(\"[INFO] Loading images ...\")\n",
        "    root_dir = PLANTS_TO_CONSIDER\n",
        "    print(\"Root Dir\", root_dir)\n",
        "    # for directory in root_dir :\n",
        "    #     # remove .DS_Store from list\n",
        "    #     if directory == \".DS_Store\" :\n",
        "    #         root_dir.remove(directory)\n",
        "\n",
        "    for plant_folder in root_dir :\n",
        "        plant_disease_folder_list = listdir(f\"{directory_root}/{plant_folder}\")\n",
        "        \n",
        "        for disease_folder in plant_disease_folder_list :\n",
        "            # remove .DS_Store from list\n",
        "            if disease_folder == \".DS_Store\" :\n",
        "                plant_disease_folder_list.remove(disease_folder)\n",
        "\n",
        "        for plant_disease_folder in plant_disease_folder_list:\n",
        "            print(\"\\n=============================================\\n\")\n",
        "            print(f\"[INFO] Processing {plant_disease_folder} ...\")\n",
        "            plant_disease_image_list = listdir(f\"{directory_root}/{plant_folder}/{plant_disease_folder}/\")\n",
        "                \n",
        "            for single_plant_disease_image in plant_disease_image_list :\n",
        "                if single_plant_disease_image == \".DS_Store\" :\n",
        "                    plant_disease_image_list.remove(single_plant_disease_image)\n",
        "\n",
        "            print(f\"No of Images: {len(plant_disease_image_list)}, Selecting Randomly: {NO_IMAGES_EACH_SET}\")\n",
        "            random.shuffle(plant_disease_image_list) \n",
        "            ix=1\n",
        "            for image in plant_disease_image_list[:NO_IMAGES_EACH_SET]:\n",
        "                image_directory = f\"{directory_root}/{plant_folder}/{plant_disease_folder}/{image}\"\n",
        "                if image_directory.endswith(\".jpg\") == True or image_directory.endswith(\".JPG\") == True:\n",
        "                    image_list.append(convert_image_to_array(image_directory))\n",
        "                    label_list.append(plant_folder + \"_\" + plant_disease_folder)\n",
        "                    if not ix%50:\n",
        "                      print(ix, end=\"..\")\n",
        "                    ix+=1\n",
        "    print(\"[INFO] Image loading completed\")  \n",
        "except Exception as e:\n",
        "    print(f\"Error : {e}\")"
      ],
      "execution_count": 7,
      "outputs": [
        {
          "output_type": "stream",
          "text": [
            "[INFO] Loading images ...\n",
            "Root Dir ['Corn']\n",
            "\n",
            "=============================================\n",
            "\n",
            "[INFO] Processing Corn_Healthy ...\n",
            "No of Images: 1000, Selecting Randomly: 800\n",
            "50..100..150..200..250..300..350..400..450..500..550..600..650..700..750..800..\n",
            "=============================================\n",
            "\n",
            "[INFO] Processing Corn_Cercospora_Leaf_Spot ...\n",
            "No of Images: 513, Selecting Randomly: 800\n",
            "50..100..150..200..250..300..350..400..450..500..\n",
            "=============================================\n",
            "\n",
            "[INFO] Processing Corn_Common_rust_ ...\n",
            "No of Images: 1000, Selecting Randomly: 800\n",
            "50..100..150..200..250..300..350..400..450..500..550..600..650..700..750..800..\n",
            "=============================================\n",
            "\n",
            "[INFO] Processing Corn_Northern_Leaf_Blight ...\n",
            "No of Images: 985, Selecting Randomly: 800\n",
            "50..100..150..200..250..300..350..400..450..500..550..600..650..700..750..800..[INFO] Image loading completed\n"
          ],
          "name": "stdout"
        }
      ]
    },
    {
      "cell_type": "code",
      "metadata": {
        "id": "XN0T-adstqUj",
        "colab": {
          "base_uri": "https://localhost:8080/"
        },
        "outputId": "d3067654-096b-4e89-efcd-44546c945fca"
      },
      "source": [
        "image_size = len(image_list)\n",
        "image_size"
      ],
      "execution_count": 8,
      "outputs": [
        {
          "output_type": "execute_result",
          "data": {
            "text/plain": [
              "2913"
            ]
          },
          "metadata": {
            "tags": []
          },
          "execution_count": 8
        }
      ]
    },
    {
      "cell_type": "code",
      "metadata": {
        "id": "urzLjBwStsuM",
        "colab": {
          "base_uri": "https://localhost:8080/"
        },
        "outputId": "9432f1f7-911d-4bf0-e83e-99fb35b9075b"
      },
      "source": [
        "label_binarizer = LabelBinarizer()\n",
        "image_labels = label_binarizer.fit_transform(label_list)\n",
        "pickle.dump(label_binarizer,open('label_transform.pkl', 'wb'))\n",
        "n_classes = len(label_binarizer.classes_)\n",
        "print(label_binarizer.classes_)"
      ],
      "execution_count": 9,
      "outputs": [
        {
          "output_type": "stream",
          "text": [
            "['Corn_Corn_Cercospora_Leaf_Spot' 'Corn_Corn_Common_rust_'\n",
            " 'Corn_Corn_Healthy' 'Corn_Corn_Northern_Leaf_Blight']\n"
          ],
          "name": "stdout"
        }
      ]
    },
    {
      "cell_type": "code",
      "metadata": {
        "id": "rKPy4IJltuaX"
      },
      "source": [
        "np_image_list = np.array(image_list, dtype=np.float16) / 225.0"
      ],
      "execution_count": 10,
      "outputs": []
    },
    {
      "cell_type": "code",
      "metadata": {
        "id": "1yCgUaKBt0FT",
        "colab": {
          "base_uri": "https://localhost:8080/"
        },
        "outputId": "25435195-0fe3-40ea-ec91-ee8c17875213"
      },
      "source": [
        "print(\"[INFO] Spliting data to train, test\")\n",
        "x_train, x_test, y_train, y_test = train_test_split(np_image_list, image_labels, test_size=0.2, random_state = 42) "
      ],
      "execution_count": 11,
      "outputs": [
        {
          "output_type": "stream",
          "text": [
            "[INFO] Spliting data to train, test\n"
          ],
          "name": "stdout"
        }
      ]
    },
    {
      "cell_type": "code",
      "metadata": {
        "id": "1qHgL-gHt1gU"
      },
      "source": [
        "aug = ImageDataGenerator(\n",
        "    rotation_range=25, width_shift_range=0.1,\n",
        "    height_shift_range=0.1, shear_range=0.2, \n",
        "    zoom_range=0.2,horizontal_flip=True, \n",
        "    fill_mode=\"nearest\")"
      ],
      "execution_count": 12,
      "outputs": []
    },
    {
      "cell_type": "code",
      "metadata": {
        "id": "EiQJ-mdHt4LH"
      },
      "source": [
        "model = Sequential()\n",
        "inputShape = (height, width, depth)\n",
        "chanDim = -1\n",
        "if K.image_data_format() == \"channels_first\":\n",
        "    inputShape = (depth, height, width)\n",
        "    chanDim = 1\n",
        "model.add(Conv2D(32, (3, 3), padding=\"same\",input_shape=inputShape))\n",
        "model.add(Activation(\"relu\"))\n",
        "model.add(BatchNormalization(axis=chanDim))\n",
        "model.add(MaxPooling2D(pool_size=(3, 3)))\n",
        "model.add(Dropout(0.25))\n",
        "model.add(Conv2D(64, (3, 3), padding=\"same\"))\n",
        "model.add(Activation(\"relu\"))\n",
        "model.add(BatchNormalization(axis=chanDim))\n",
        "model.add(Conv2D(64, (3, 3), padding=\"same\"))\n",
        "model.add(Activation(\"relu\"))\n",
        "model.add(BatchNormalization(axis=chanDim))\n",
        "model.add(MaxPooling2D(pool_size=(2, 2)))\n",
        "model.add(Dropout(0.25))\n",
        "model.add(Conv2D(128, (3, 3), padding=\"same\"))\n",
        "model.add(Activation(\"relu\"))\n",
        "model.add(BatchNormalization(axis=chanDim))\n",
        "model.add(Conv2D(128, (3, 3), padding=\"same\"))\n",
        "model.add(Activation(\"relu\"))\n",
        "model.add(BatchNormalization(axis=chanDim))\n",
        "model.add(MaxPooling2D(pool_size=(2, 2)))\n",
        "model.add(Dropout(0.25))\n",
        "model.add(Flatten())\n",
        "model.add(Dense(1024))\n",
        "model.add(Activation(\"relu\"))\n",
        "model.add(BatchNormalization())\n",
        "model.add(Dropout(0.5))\n",
        "model.add(Dense(n_classes))\n",
        "model.add(Activation(\"softmax\"))"
      ],
      "execution_count": 13,
      "outputs": []
    },
    {
      "cell_type": "code",
      "metadata": {
        "id": "YHvMGNZUt6eq",
        "colab": {
          "base_uri": "https://localhost:8080/"
        },
        "outputId": "b814db2a-6a52-4c64-e273-ac66f89a2618"
      },
      "source": [
        "model.summary()"
      ],
      "execution_count": 14,
      "outputs": [
        {
          "output_type": "stream",
          "text": [
            "Model: \"sequential\"\n",
            "_________________________________________________________________\n",
            "Layer (type)                 Output Shape              Param #   \n",
            "=================================================================\n",
            "conv2d (Conv2D)              (None, 256, 256, 32)      896       \n",
            "_________________________________________________________________\n",
            "activation (Activation)      (None, 256, 256, 32)      0         \n",
            "_________________________________________________________________\n",
            "batch_normalization (BatchNo (None, 256, 256, 32)      128       \n",
            "_________________________________________________________________\n",
            "max_pooling2d (MaxPooling2D) (None, 85, 85, 32)        0         \n",
            "_________________________________________________________________\n",
            "dropout (Dropout)            (None, 85, 85, 32)        0         \n",
            "_________________________________________________________________\n",
            "conv2d_1 (Conv2D)            (None, 85, 85, 64)        18496     \n",
            "_________________________________________________________________\n",
            "activation_1 (Activation)    (None, 85, 85, 64)        0         \n",
            "_________________________________________________________________\n",
            "batch_normalization_1 (Batch (None, 85, 85, 64)        256       \n",
            "_________________________________________________________________\n",
            "conv2d_2 (Conv2D)            (None, 85, 85, 64)        36928     \n",
            "_________________________________________________________________\n",
            "activation_2 (Activation)    (None, 85, 85, 64)        0         \n",
            "_________________________________________________________________\n",
            "batch_normalization_2 (Batch (None, 85, 85, 64)        256       \n",
            "_________________________________________________________________\n",
            "max_pooling2d_1 (MaxPooling2 (None, 42, 42, 64)        0         \n",
            "_________________________________________________________________\n",
            "dropout_1 (Dropout)          (None, 42, 42, 64)        0         \n",
            "_________________________________________________________________\n",
            "conv2d_3 (Conv2D)            (None, 42, 42, 128)       73856     \n",
            "_________________________________________________________________\n",
            "activation_3 (Activation)    (None, 42, 42, 128)       0         \n",
            "_________________________________________________________________\n",
            "batch_normalization_3 (Batch (None, 42, 42, 128)       512       \n",
            "_________________________________________________________________\n",
            "conv2d_4 (Conv2D)            (None, 42, 42, 128)       147584    \n",
            "_________________________________________________________________\n",
            "activation_4 (Activation)    (None, 42, 42, 128)       0         \n",
            "_________________________________________________________________\n",
            "batch_normalization_4 (Batch (None, 42, 42, 128)       512       \n",
            "_________________________________________________________________\n",
            "max_pooling2d_2 (MaxPooling2 (None, 21, 21, 128)       0         \n",
            "_________________________________________________________________\n",
            "dropout_2 (Dropout)          (None, 21, 21, 128)       0         \n",
            "_________________________________________________________________\n",
            "flatten (Flatten)            (None, 56448)             0         \n",
            "_________________________________________________________________\n",
            "dense (Dense)                (None, 1024)              57803776  \n",
            "_________________________________________________________________\n",
            "activation_5 (Activation)    (None, 1024)              0         \n",
            "_________________________________________________________________\n",
            "batch_normalization_5 (Batch (None, 1024)              4096      \n",
            "_________________________________________________________________\n",
            "dropout_3 (Dropout)          (None, 1024)              0         \n",
            "_________________________________________________________________\n",
            "dense_1 (Dense)              (None, 4)                 4100      \n",
            "_________________________________________________________________\n",
            "activation_6 (Activation)    (None, 4)                 0         \n",
            "=================================================================\n",
            "Total params: 58,091,396\n",
            "Trainable params: 58,088,516\n",
            "Non-trainable params: 2,880\n",
            "_________________________________________________________________\n"
          ],
          "name": "stdout"
        }
      ]
    },
    {
      "cell_type": "code",
      "metadata": {
        "id": "R7Bl_0UeuBir",
        "colab": {
          "base_uri": "https://localhost:8080/"
        },
        "outputId": "3d631ac9-bec4-4a3e-a314-c017994a0154"
      },
      "source": [
        "opt = Adam(lr=INIT_LR, decay=INIT_LR / EPOCHS)\n",
        "# distribution\n",
        "model.compile(loss=\"binary_crossentropy\", optimizer=opt,metrics=[\"accuracy\"])\n",
        "# train the network\n",
        "print(\"[INFO] training network...\")"
      ],
      "execution_count": 15,
      "outputs": [
        {
          "output_type": "stream",
          "text": [
            "[INFO] training network...\n"
          ],
          "name": "stdout"
        }
      ]
    },
    {
      "cell_type": "code",
      "metadata": {
        "id": "1lK9ImctuFbk",
        "colab": {
          "base_uri": "https://localhost:8080/"
        },
        "outputId": "4d3ff076-a7cf-494c-dfd9-69ca34cde425"
      },
      "source": [
        "history = model.fit_generator(\n",
        "    aug.flow(x_train, y_train, batch_size=BS),\n",
        "    validation_data=(x_test, y_test),\n",
        "    steps_per_epoch=len(x_train) // BS,\n",
        "    epochs=EPOCHS, verbose=1\n",
        "    )"
      ],
      "execution_count": 16,
      "outputs": [
        {
          "output_type": "stream",
          "text": [
            "WARNING:tensorflow:From <ipython-input-16-f5a41846f0f2>:5: Model.fit_generator (from tensorflow.python.keras.engine.training) is deprecated and will be removed in a future version.\n",
            "Instructions for updating:\n",
            "Please use Model.fit, which supports generators.\n",
            "Epoch 1/20\n",
            "72/72 [==============================] - 31s 426ms/step - loss: 0.2729 - accuracy: 0.7942 - val_loss: 2.9505 - val_accuracy: 0.2762\n",
            "Epoch 2/20\n",
            "72/72 [==============================] - 30s 415ms/step - loss: 0.1871 - accuracy: 0.8538 - val_loss: 0.7997 - val_accuracy: 0.3533\n",
            "Epoch 3/20\n",
            "72/72 [==============================] - 30s 417ms/step - loss: 0.1400 - accuracy: 0.8856 - val_loss: 0.7955 - val_accuracy: 0.3911\n",
            "Epoch 4/20\n",
            "72/72 [==============================] - 30s 418ms/step - loss: 0.1217 - accuracy: 0.9064 - val_loss: 0.7832 - val_accuracy: 0.4220\n",
            "Epoch 5/20\n",
            "72/72 [==============================] - 30s 415ms/step - loss: 0.1137 - accuracy: 0.9125 - val_loss: 1.0243 - val_accuracy: 0.4511\n",
            "Epoch 6/20\n",
            "72/72 [==============================] - 30s 414ms/step - loss: 0.1031 - accuracy: 0.9204 - val_loss: 0.4112 - val_accuracy: 0.6741\n",
            "Epoch 7/20\n",
            "72/72 [==============================] - 30s 417ms/step - loss: 0.0870 - accuracy: 0.9265 - val_loss: 0.5888 - val_accuracy: 0.6226\n",
            "Epoch 8/20\n",
            "72/72 [==============================] - 30s 415ms/step - loss: 0.0850 - accuracy: 0.9395 - val_loss: 0.2639 - val_accuracy: 0.7925\n",
            "Epoch 9/20\n",
            "72/72 [==============================] - 30s 419ms/step - loss: 0.0869 - accuracy: 0.9326 - val_loss: 0.0908 - val_accuracy: 0.9331\n",
            "Epoch 10/20\n",
            "72/72 [==============================] - 30s 417ms/step - loss: 0.0793 - accuracy: 0.9334 - val_loss: 0.2112 - val_accuracy: 0.8559\n",
            "Epoch 11/20\n",
            "72/72 [==============================] - 30s 417ms/step - loss: 0.0712 - accuracy: 0.9469 - val_loss: 0.1832 - val_accuracy: 0.8851\n",
            "Epoch 12/20\n",
            "72/72 [==============================] - 30s 417ms/step - loss: 0.0759 - accuracy: 0.9408 - val_loss: 0.1631 - val_accuracy: 0.8885\n",
            "Epoch 13/20\n",
            "72/72 [==============================] - 30s 419ms/step - loss: 0.0714 - accuracy: 0.9413 - val_loss: 0.1493 - val_accuracy: 0.9039\n",
            "Epoch 14/20\n",
            "72/72 [==============================] - 30s 415ms/step - loss: 0.0729 - accuracy: 0.9413 - val_loss: 0.2189 - val_accuracy: 0.8662\n",
            "Epoch 15/20\n",
            "72/72 [==============================] - 30s 416ms/step - loss: 0.0588 - accuracy: 0.9543 - val_loss: 0.1546 - val_accuracy: 0.9160\n",
            "Epoch 16/20\n",
            "72/72 [==============================] - 30s 415ms/step - loss: 0.0541 - accuracy: 0.9591 - val_loss: 0.0623 - val_accuracy: 0.9468\n",
            "Epoch 17/20\n",
            "72/72 [==============================] - 30s 416ms/step - loss: 0.0523 - accuracy: 0.9617 - val_loss: 0.4134 - val_accuracy: 0.7753\n",
            "Epoch 18/20\n",
            "72/72 [==============================] - 30s 415ms/step - loss: 0.0616 - accuracy: 0.9565 - val_loss: 0.1258 - val_accuracy: 0.9211\n",
            "Epoch 19/20\n",
            "72/72 [==============================] - 30s 416ms/step - loss: 0.0544 - accuracy: 0.9556 - val_loss: 0.0888 - val_accuracy: 0.9297\n",
            "Epoch 20/20\n",
            "72/72 [==============================] - 30s 417ms/step - loss: 0.0590 - accuracy: 0.9517 - val_loss: 0.1348 - val_accuracy: 0.9091\n"
          ],
          "name": "stdout"
        }
      ]
    },
    {
      "cell_type": "code",
      "metadata": {
        "id": "WdninJAuuHZE",
        "colab": {
          "base_uri": "https://localhost:8080/",
          "height": 562
        },
        "outputId": "45fb7d53-c45c-4834-f231-23f9b26c10f4"
      },
      "source": [
        "print(\"Keys\", history.history.keys())\n",
        "acc = history.history['accuracy']\n",
        "val_acc = history.history['val_accuracy']\n",
        "loss = history.history['loss']\n",
        "val_loss = history.history['val_loss']\n",
        "epochs = range(1, len(acc) + 1)\n",
        "#Train and validation accuracy\n",
        "plt.plot(epochs, acc, 'b', label='Training accurarcy')\n",
        "plt.plot(epochs, val_acc, 'r', label='Validation accurarcy')\n",
        "plt.title('Training and Validation accurarcy')\n",
        "plt.legend()\n",
        "\n",
        "plt.figure()\n",
        "#Train and validation loss\n",
        "plt.plot(epochs, loss, 'b', label='Training loss')\n",
        "plt.plot(epochs, val_loss, 'r', label='Validation loss')\n",
        "plt.title('Training and Validation loss')\n",
        "plt.legend()\n",
        "plt.show()"
      ],
      "execution_count": 17,
      "outputs": [
        {
          "output_type": "stream",
          "text": [
            "Keys dict_keys(['loss', 'accuracy', 'val_loss', 'val_accuracy'])\n"
          ],
          "name": "stdout"
        },
        {
          "output_type": "display_data",
          "data": {
            "image/png": "[encoded data removed]",
            "text/plain": [
              "<Figure size 432x288 with 1 Axes>"
            ]
          },
          "metadata": {
            "tags": [],
            "needs_background": "light"
          }
        },
        {
          "output_type": "display_data",
          "data": {
            "image/png": "[encoded data removed]",
            "text/plain": [
              "<Figure size 432x288 with 1 Axes>"
            ]
          },
          "metadata": {
            "tags": [],
            "needs_background": "light"
          }
        }
      ]
    },
    {
      "cell_type": "code",
      "metadata": {
        "id": "HQkkU4S0uJbr",
        "colab": {
          "base_uri": "https://localhost:8080/"
        },
        "outputId": "c683217b-60f8-4aac-c41e-eed1da842d17"
      },
      "source": [
        "print(\"[INFO] Calculating model accuracy\")\n",
        "scores = model.evaluate(x_test, y_test)\n",
        "print(f\"Test Accuracy: {scores[1]*100}\")"
      ],
      "execution_count": 18,
      "outputs": [
        {
          "output_type": "stream",
          "text": [
            "[INFO] Calculating model accuracy\n",
            "19/19 [==============================] - 1s 27ms/step - loss: 0.1348 - accuracy: 0.9091\n",
            "Test Accuracy: 90.90909361839294\n"
          ],
          "name": "stdout"
        }
      ]
    },
    {
      "cell_type": "code",
      "metadata": {
        "id": "qkNpXq8OuLpi"
      },
      "source": [
        "# save the model to disk\n",
        "# print(\"[INFO] Saving model...\")\n",
        "# pickle.dump(model,open('cnn_model.pkl', 'wb'))"
      ],
      "execution_count": 19,
      "outputs": []
    }
  ]
}